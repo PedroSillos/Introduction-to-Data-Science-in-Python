{
 "cells": [
  {
   "cell_type": "markdown",
   "metadata": {},
   "source": [
    "# Week 4"
   ]
  },
  {
   "cell_type": "markdown",
   "metadata": {},
   "source": [
    "## Distributions\n",
    "Set of all possible random variables"
   ]
  },
  {
   "cell_type": "code",
   "execution_count": 1,
   "metadata": {},
   "outputs": [],
   "source": [
    "import pandas as pd\n",
    "import numpy as np\n",
    "#import sys\n",
    "#np.set_printoptions(threshold=sys.maxsize)"
   ]
  },
  {
   "cell_type": "markdown",
   "metadata": {},
   "source": [
    "### Binomial"
   ]
  },
  {
   "cell_type": "code",
   "execution_count": 25,
   "metadata": {
    "scrolled": true
   },
   "outputs": [
    {
     "name": "stdout",
     "output_type": "stream",
     "text": [
      "0\n"
     ]
    }
   ],
   "source": [
    "number_of_trials = 1\n",
    "probability_of_sucess = 0.5\n",
    "\n",
    "random_number_of_sucessess = np.random.binomial(number_of_trials,probability_of_sucess)\n",
    "print(random_number_of_sucessess)"
   ]
  },
  {
   "cell_type": "code",
   "execution_count": 26,
   "metadata": {},
   "outputs": [
    {
     "name": "stdout",
     "output_type": "stream",
     "text": [
      "487\n"
     ]
    }
   ],
   "source": [
    "number_of_trials = 1000\n",
    "probability_of_sucess = 0.5\n",
    "\n",
    "random_number_of_sucessess = np.random.binomial(number_of_trials,probability_of_sucess)\n",
    "print(random_number_of_sucessess)"
   ]
  },
  {
   "cell_type": "code",
   "execution_count": 27,
   "metadata": {},
   "outputs": [
    {
     "name": "stdout",
     "output_type": "stream",
     "text": [
      "0.508\n"
     ]
    }
   ],
   "source": [
    "number_of_trials = 1000\n",
    "probability_of_sucess = 0.5\n",
    "\n",
    "random_number_of_sucessess = np.random.binomial(number_of_trials,probability_of_sucess)\n",
    "percent_of_sucess = random_number_of_sucessess/number_of_times\n",
    "print(percent_of_sucess)"
   ]
  },
  {
   "cell_type": "code",
   "execution_count": 67,
   "metadata": {},
   "outputs": [
    {
     "name": "stdout",
     "output_type": "stream",
     "text": [
      "Expected number of tornados: 10.0\n",
      "Real number of tornados: 8\n"
     ]
    }
   ],
   "source": [
    "number_of_trials = 100000\n",
    "chance_of_tornado = 0.01/100\n",
    "\n",
    "print(\"Expected number of tornados:\", number_of_trials*chance_of_tornado)\n",
    "\n",
    "number_of_tornado_events = np.random.binomial(number_of_trials, chance_of_tornado)\n",
    "print(\"Real number of tornados:\",number_of_tornado_events)"
   ]
  },
  {
   "cell_type": "code",
   "execution_count": 124,
   "metadata": {},
   "outputs": [
    {
     "name": "stdout",
     "output_type": "stream",
     "text": [
      "12 tornadoes back to back in 2739.72602739726 years\n"
     ]
    }
   ],
   "source": [
    "number_of_trials = 1\n",
    "chance_of_tornado = 0.003\n",
    "number_of_days = 1000000\n",
    "\n",
    "tornado_events = np.random.binomial(number_of_trials, chance_of_tornado, number_of_days)\n",
    "\n",
    "two_days_in_a_row = 0\n",
    "for i in range (1, len(tornado_events)-1):\n",
    "    if tornado_events[i] == 1 and tornado_events[i-1] == 1:\n",
    "        two_days_in_a_row += 1\n",
    "\n",
    "print('{} tornadoes back to back in {} years'. format(two_days_in_a_row,number_of_days/365))"
   ]
  },
  {
   "cell_type": "code",
   "execution_count": 141,
   "metadata": {},
   "outputs": [
    {
     "data": {
      "text/plain": [
       "0.7499976488041412"
      ]
     },
     "execution_count": 141,
     "metadata": {},
     "output_type": "execute_result"
    }
   ],
   "source": [
    "lower_boundary = 0 #All values generated will be greater than or equal to low\n",
    "upper_boundary = 1 #All values generated will be less than or equal to high\n",
    "\n",
    "np.random.uniform(lower_boundary, upper_boundary) #all numbers between 0 and 1 have the same chance to show"
   ]
  },
  {
   "cell_type": "code",
   "execution_count": 143,
   "metadata": {},
   "outputs": [
    {
     "data": {
      "text/plain": [
       "0.5000174444366969"
      ]
     },
     "execution_count": 143,
     "metadata": {},
     "output_type": "execute_result"
    }
   ],
   "source": [
    "#comes really close to 0.5\n",
    "np.mean(np.random.uniform(lower_boundary, upper_boundary, 1000000000))"
   ]
  },
  {
   "cell_type": "code",
   "execution_count": 181,
   "metadata": {},
   "outputs": [
    {
     "data": {
      "text/plain": [
       "1.0989965536313366"
      ]
     },
     "execution_count": 181,
     "metadata": {},
     "output_type": "execute_result"
    }
   ],
   "source": [
    "center = 1 #Mean (“centre”) of the distribution.\n",
    "standard_deviation = 0.1\n",
    "\n",
    "np.random.normal(center, standard_deviation)"
   ]
  },
  {
   "cell_type": "code",
   "execution_count": 290,
   "metadata": {},
   "outputs": [
    {
     "data": {
      "text/plain": [
       "array([1.24875851, 1.63515189, 0.67104282, 0.87511245, 1.80097618,\n",
       "       1.10060232, 0.75837726, 0.80002001, 1.73913092, 1.54153168])"
      ]
     },
     "execution_count": 290,
     "metadata": {},
     "output_type": "execute_result"
    }
   ],
   "source": [
    "center = 1 #Mean (“centre”) of the distribution.\n",
    "standard_deviation = 0.5 #Standard deviation (spread or “width”) of the distribution. Must be non-negative.\n",
    "number_of_samples = 10\n",
    "\n",
    "np.random.normal(center, standard_deviation, number_of_samples)"
   ]
  },
  {
   "cell_type": "code",
   "execution_count": 308,
   "metadata": {},
   "outputs": [
    {
     "data": {
      "text/plain": [
       "1.0280720756704664"
      ]
     },
     "execution_count": 308,
     "metadata": {},
     "output_type": "execute_result"
    }
   ],
   "source": [
    "center = 1 #Mean (“centre”) of the distribution.\n",
    "number_of_samples = 100\n",
    "\n",
    "distribution = np.random.normal(center, size=number_of_samples)\n",
    "\n",
    "np.sqrt(np.sum((np.mean(distribution)-distribution)**2)/len(distribution)) #standard deviation\n",
    "\n",
    "np.std(distribution) #standard deviation"
   ]
  },
  {
   "cell_type": "code",
   "execution_count": 13,
   "metadata": {},
   "outputs": [
    {
     "data": {
      "text/plain": [
       "-0.38707216406725786"
      ]
     },
     "execution_count": 13,
     "metadata": {},
     "output_type": "execute_result"
    }
   ],
   "source": [
    "import scipy.stats as stats\n",
    "\n",
    "stats.kurtosis(distribution)"
   ]
  },
  {
   "cell_type": "code",
   "execution_count": 14,
   "metadata": {},
   "outputs": [
    {
     "data": {
      "text/plain": [
       "0.2118770666137236"
      ]
     },
     "execution_count": 14,
     "metadata": {},
     "output_type": "execute_result"
    }
   ],
   "source": [
    "stats.skew(distribution)"
   ]
  },
  {
   "cell_type": "code",
   "execution_count": 15,
   "metadata": {},
   "outputs": [
    {
     "data": {
      "text/plain": [
       "2.753108797876627"
      ]
     },
     "execution_count": 15,
     "metadata": {},
     "output_type": "execute_result"
    }
   ],
   "source": [
    "chi_squared_df2 = np.random.chisquare(2, size=1000)\n",
    "stats.skew(chi_squared_df2)"
   ]
  },
  {
   "cell_type": "code",
   "execution_count": 16,
   "metadata": {},
   "outputs": [
    {
     "data": {
      "text/plain": [
       "2.753108797876627"
      ]
     },
     "execution_count": 16,
     "metadata": {},
     "output_type": "execute_result"
    }
   ],
   "source": [
    "chi_squared_df5 = np.random.chisquare(5, size=1000)\n",
    "stats.skew(chi_squared_df2)"
   ]
  },
  {
   "cell_type": "code",
   "execution_count": 17,
   "metadata": {},
   "outputs": [
    {
     "data": {
      "text/plain": [
       "<matplotlib.legend.Legend at 0x270e0350b20>"
      ]
     },
     "execution_count": 17,
     "metadata": {},
     "output_type": "execute_result"
    },
    {
     "data": {
      "image/png": "[encoded data removed]",
      "text/plain": [
       "<Figure size 432x288 with 1 Axes>"
      ]
     },
     "metadata": {
      "needs_background": "light"
     },
     "output_type": "display_data"
    }
   ],
   "source": [
    "%matplotlib inline\n",
    "import matplotlib\n",
    "import matplotlib.pyplot as plt\n",
    "\n",
    "output = plt.hist([chi_squared_df2, chi_squared_df5], bins=50, histtype='step', label=['2 degrees of freedom','5 degrees of freedom'])\n",
    "plt.legend(loc='upper right')"
   ]
  },
  {
   "cell_type": "code",
   "execution_count": null,
   "metadata": {},
   "outputs": [],
   "source": []
  }
 ],
 "metadata": {
  "kernelspec": {
   "display_name": "Python 3",
   "language": "python",
   "name": "python3"
  },
  "language_info": {
   "codemirror_mode": {
    "name": "ipython",
    "version": 3
   },
   "file_extension": ".py",
   "mimetype": "text/x-python",
   "name": "python",
   "nbconvert_exporter": "python",
   "pygments_lexer": "ipython3",
   "version": "3.8.3"
  }
 },
 "nbformat": 4,
 "nbformat_minor": 4
}
