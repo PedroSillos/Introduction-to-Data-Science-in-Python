{
 "cells": [
  {
   "cell_type": "markdown",
   "metadata": {},
   "source": [
    "# Final Exam"
   ]
  },
  {
   "cell_type": "code",
   "execution_count": 1,
   "metadata": {},
   "outputs": [],
   "source": [
    "import pandas as pd\n",
    "import numpy as np\n",
    "from scipy.stats import ttest_ind"
   ]
  },
  {
   "cell_type": "code",
   "execution_count": 2,
   "metadata": {},
   "outputs": [],
   "source": [
    "# Use this dictionary to map state names to two letter acronyms\n",
    "states = {'OH': 'Ohio', 'KY': 'Kentucky', 'AS': 'American Samoa', 'NV': 'Nevada', 'WY': 'Wyoming', 'NA': 'National', 'AL': 'Alabama', 'MD': 'Maryland', 'AK': 'Alaska', 'UT': 'Utah', 'OR': 'Oregon', 'MT': 'Montana', 'IL': 'Illinois', 'TN': 'Tennessee', 'DC': 'District of Columbia', 'VT': 'Vermont', 'ID': 'Idaho', 'AR': 'Arkansas', 'ME': 'Maine', 'WA': 'Washington', 'HI': 'Hawaii', 'WI': 'Wisconsin', 'MI': 'Michigan', 'IN': 'Indiana', 'NJ': 'New Jersey', 'AZ': 'Arizona', 'GU': 'Guam', 'MS': 'Mississippi', 'PR': 'Puerto Rico', 'NC': 'North Carolina', 'TX': 'Texas', 'SD': 'South Dakota', 'MP': 'Northern Mariana Islands', 'IA': 'Iowa', 'MO': 'Missouri', 'CT': 'Connecticut', 'WV': 'West Virginia', 'SC': 'South Carolina', 'LA': 'Louisiana', 'KS': 'Kansas', 'NY': 'New York', 'NE': 'Nebraska', 'OK': 'Oklahoma', 'FL': 'Florida', 'CA': 'California', 'CO': 'Colorado', 'PA': 'Pennsylvania', 'DE': 'Delaware', 'NM': 'New Mexico', 'RI': 'Rhode Island', 'MN': 'Minnesota', 'VI': 'Virgin Islands', 'NH': 'New Hampshire', 'MA': 'Massachusetts', 'GA': 'Georgia', 'ND': 'North Dakota', 'VA': 'Virginia'}"
   ]
  },
  {
   "cell_type": "code",
   "execution_count": 3,
   "metadata": {},
   "outputs": [],
   "source": [
    "def get_list_of_university_towns():\n",
    "    '''Returns a DataFrame of towns and the states they are in from the \n",
    "    university_towns.txt list. The format of the DataFrame should be:\n",
    "    DataFrame( [ [\"Michigan\", \"Ann Arbor\"], [\"Michigan\", \"Yipsilanti\"] ], \n",
    "    columns=[\"State\", \"RegionName\"]  )\n",
    "    \n",
    "    The following cleaning needs to be done:\n",
    "\n",
    "    1. For \"State\", removing characters from \"[\" to the end.\n",
    "    2. For \"RegionName\", when applicable, removing every character from \" (\" to the end.\n",
    "    3. Depending on how you read the data, you may need to remove newline character '\\n'. '''\n",
    "    \n",
    "    uni_towns = pd.read_csv('university_towns.txt', sep='\\n', header=None, names=['RegionName'])\n",
    "    \n",
    "    uni_towns['State'] = np.where(uni_towns['RegionName'].str.contains('edit'),uni_towns['RegionName'],np.NaN)\n",
    "    \n",
    "    uni_towns['State'].fillna(method='ffill',inplace=True)\n",
    "    \n",
    "    uni_towns = uni_towns[['State','RegionName']]\n",
    "    \n",
    "    for col in uni_towns:\n",
    "        uni_towns[col] = uni_towns[col].str.split('(',expand=True)[0].str.split('[', expand=True)[0].str.rstrip()\n",
    "        \n",
    "    uni_towns = uni_towns[uni_towns['State'] != uni_towns['RegionName']]\n",
    "    \n",
    "    return uni_towns"
   ]
  },
  {
   "cell_type": "code",
   "execution_count": 4,
   "metadata": {},
   "outputs": [],
   "source": [
    "def read_gdp():\n",
    "    \n",
    "    GDP = pd.read_excel('gdplev.xls',skiprows=4)\n",
    "    \n",
    "    GDP = GDP.drop(GDP.columns[[0,1,2,3,5,7]],axis=1)\n",
    "    \n",
    "    new_header = GDP.iloc[0]\n",
    "    GDP = GDP[3:]\n",
    "    GDP.columns = new_header\n",
    "    \n",
    "    GDP = GDP.reset_index(drop=True)\n",
    "    GDP.columns = ['Quarter','GDP']\n",
    "    \n",
    "    GDP = GDP.drop(GDP.index[0:212])\n",
    "    \n",
    "    GDP = GDP.reset_index(drop=True)\n",
    "    \n",
    "    GDP['GDP Diff'] = GDP['GDP'].diff()\n",
    "    \n",
    "    return GDP"
   ]
  },
  {
   "cell_type": "code",
   "execution_count": 5,
   "metadata": {},
   "outputs": [],
   "source": [
    "def get_recession_start():\n",
    "    '''Returns the year and quarter of the recession start time as a \n",
    "    string value in a format such as 2005q3'''\n",
    "    \n",
    "    GDP = read_gdp()\n",
    "    \n",
    "    GDP_dec = GDP.where(GDP['GDP Diff']<0)\n",
    "    GDP_dec = GDP_dec.dropna()\n",
    "    \n",
    "    GDP_dec['Index'] = GDP_dec.index\n",
    "    GDP_dec['Index Diff'] = GDP_dec['Index'].diff()\n",
    "    min_index = GDP_dec['Index Diff'].idxmin()\n",
    "    \n",
    "    return GDP['Quarter'].iloc[min_index-1]"
   ]
  },
  {
   "cell_type": "code",
   "execution_count": 6,
   "metadata": {},
   "outputs": [],
   "source": [
    "def get_recession_end():\n",
    "    '''Returns the year and quarter of the recession end time as a \n",
    "    string value in a format such as 2005q3'''\n",
    "    \n",
    "    GDP = read_gdp()\n",
    "    \n",
    "    GDP_rise = GDP.where(GDP['GDP Diff']>0)\n",
    "    GDP_rise = GDP_rise.dropna()\n",
    "    \n",
    "    GDP_rise['Index'] = GDP_rise.index\n",
    "    GDP_rise['Index Diff'] = GDP_rise['Index'].diff()\n",
    "    max_index = GDP_rise['Index Diff'].idxmax()\n",
    "    \n",
    "    return GDP['Quarter'].iloc[max_index+1]"
   ]
  },
  {
   "cell_type": "code",
   "execution_count": 7,
   "metadata": {},
   "outputs": [],
   "source": [
    "def get_recession_bottom():\n",
    "    '''Returns the year and quarter of the recession bottom time as a \n",
    "    string value in a format such as 2005q3'''\n",
    "    \n",
    "    GDP = read_gdp()\n",
    "    \n",
    "    start_index = GDP.loc[GDP['Quarter'] == get_recession_start()].index.astype(int)[0]\n",
    "    end_index = GDP.loc[GDP['Quarter'] == get_recession_end()].index.astype(int)[0]\n",
    "    \n",
    "    GDP = GDP.iloc[start_index:end_index+1]\n",
    "    \n",
    "    return GDP['Quarter'][GDP.loc[GDP['GDP'] == GDP['GDP'].min()].index.astype(float)[0]]"
   ]
  },
  {
   "cell_type": "code",
   "execution_count": 8,
   "metadata": {},
   "outputs": [],
   "source": [
    "def change_to_quarter(date: str):\n",
    "    date = date.split('-')\n",
    "    month = int(date[1])\n",
    "    quarter = int((month-1)/3)+1\n",
    "    return date[0]+'q'+str(quarter)"
   ]
  },
  {
   "cell_type": "code",
   "execution_count": 9,
   "metadata": {},
   "outputs": [],
   "source": [
    "def convert_housing_data_to_quarters():\n",
    "    '''Converts the housing data to quarters and returns it as mean \n",
    "    values in a dataframe. This dataframe should be a dataframe with\n",
    "    columns for 2000q1 through 2016q3, and should have a multi-index\n",
    "    in the shape of [\"State\",\"RegionName\"].\n",
    "    \n",
    "    Note: Quarters are defined in the assignment description, they are\n",
    "    not arbitrary three month periods.\n",
    "    \n",
    "    The resulting dataframe should have 67 columns, and 10,730 rows.\n",
    "    '''\n",
    "    \n",
    "    all_homes = pd.read_csv('City_Zhvi_AllHomes.csv')\n",
    "    \n",
    "    start_rem = all_homes.columns.get_loc('1996-04')\n",
    "    end_rem = all_homes.columns.get_loc('2000-01')\n",
    "    all_homes = all_homes.drop(all_homes.columns[start_rem:end_rem],axis=1)\n",
    "    \n",
    "    all_homes = all_homes.drop(all_homes.columns[[0,3,4,5]],axis=1)\n",
    "    \n",
    "    all_homes['State'] = all_homes['State'].map(states)\n",
    "\n",
    "    columnsName = list(all_homes.columns)\n",
    "    S, R = columnsName.index('State'), columnsName.index('RegionName')\n",
    "    columnsName[S], columnsName[R] = columnsName[R], columnsName[S]\n",
    "    all_homes = all_homes[columnsName]\n",
    "    \n",
    "    all_homes = all_homes.set_index(['State','RegionName']).sort_index()\n",
    "    \n",
    "    all_homes = all_homes.groupby(change_to_quarter, axis=1).mean()\n",
    "    \n",
    "    return all_homes"
   ]
  },
  {
   "cell_type": "code",
   "execution_count": 10,
   "metadata": {},
   "outputs": [],
   "source": [
    "def run_ttest():\n",
    "    '''First creates new data showing the decline or growth of housing prices\n",
    "    between the recession start and the recession bottom. Then runs a ttest\n",
    "    comparing the university town values to the non-university towns values, \n",
    "    return whether the alternative hypothesis (that the two groups are the same)\n",
    "    is true or not as well as the p-value of the confidence. \n",
    "    \n",
    "    Return the tuple (different, p, better) where different=True if the t-test is\n",
    "    True at a p<0.01 (we reject the null hypothesis), or different=False if \n",
    "    otherwise (we cannot reject the null hypothesis). The variable p should\n",
    "    be equal to the exact p value returned from scipy.stats.ttest_ind(). The\n",
    "    value for better should be either \"university town\" or \"non-university town\"\n",
    "    depending on which has a lower mean price ratio (which is equivilent to a\n",
    "    reduced market loss).'''\n",
    "    \n",
    "    df = convert_housing_data_to_quarters()\n",
    "    \n",
    "    before_rec = (df.columns.get_loc(get_recession_start())-1)\n",
    "    rec_bottom = df.columns.get_loc(get_recession_bottom())\n",
    "    \n",
    "    uni = get_list_of_university_towns().set_index(['State','RegionName'])\n",
    "    \n",
    "    df = np.divide(df.ix[:,before_rec],df.ix[:,rec_bottom]).to_frame().dropna()\n",
    "    \n",
    "    uni_df = df.merge(uni, right_index=True, left_index=True, how='inner')\n",
    "    \n",
    "    nonuni_df = df.drop(uni_df.index)\n",
    "    \n",
    "    p_value = ttest_ind(uni_df.values, nonuni_df.values).pvalue\n",
    "    \n",
    "    if p_value < 0.01:\n",
    "        different=True\n",
    "    else:\n",
    "        different=False\n",
    "        \n",
    "    if uni_df.mean().values < nonuni_df.mean().values:\n",
    "        better='university town'\n",
    "    else:\n",
    "        better='non-university town'\n",
    "    \n",
    "    return (different, p_value[0], better)"
   ]
  }
 ],
 "metadata": {
  "kernelspec": {
   "display_name": "Python 3",
   "language": "python",
   "name": "python3"
  },
  "language_info": {
   "codemirror_mode": {
    "name": "ipython",
    "version": 3
   },
   "file_extension": ".py",
   "mimetype": "text/x-python",
   "name": "python",
   "nbconvert_exporter": "python",
   "pygments_lexer": "ipython3",
   "version": "3.8.3"
  }
 },
 "nbformat": 4,
 "nbformat_minor": 4
}
