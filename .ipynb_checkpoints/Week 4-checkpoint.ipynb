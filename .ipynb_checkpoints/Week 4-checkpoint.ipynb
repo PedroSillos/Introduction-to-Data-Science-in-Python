{
 "cells": [
  {
   "cell_type": "markdown",
   "metadata": {},
   "source": [
    "# Week 4"
   ]
  },
  {
   "cell_type": "markdown",
   "metadata": {},
   "source": [
    "## Distributions\n",
    "Set of all possible random variables"
   ]
  },
  {
   "cell_type": "code",
   "execution_count": 1,
   "metadata": {},
   "outputs": [],
   "source": [
    "import pandas as pd\n",
    "import numpy as np\n",
    "#import sys\n",
    "#np.set_printoptions(threshold=sys.maxsize)"
   ]
  },
  {
   "cell_type": "markdown",
   "metadata": {},
   "source": [
    "### Binomial"
   ]
  },
  {
   "cell_type": "code",
   "execution_count": 2,
   "metadata": {
    "scrolled": true
   },
   "outputs": [
    {
     "name": "stdout",
     "output_type": "stream",
     "text": [
      "1\n"
     ]
    }
   ],
   "source": [
    "number_of_trials = 1\n",
    "probability_of_sucess = 0.5\n",
    "\n",
    "random_number_of_sucessess = np.random.binomial(number_of_trials,probability_of_sucess)\n",
    "print(random_number_of_sucessess)"
   ]
  },
  {
   "cell_type": "code",
   "execution_count": 3,
   "metadata": {},
   "outputs": [
    {
     "name": "stdout",
     "output_type": "stream",
     "text": [
      "525\n"
     ]
    }
   ],
   "source": [
    "number_of_trials = 1000\n",
    "probability_of_sucess = 0.5\n",
    "\n",
    "random_number_of_sucessess = np.random.binomial(number_of_trials,probability_of_sucess)\n",
    "print(random_number_of_sucessess)"
   ]
  },
  {
   "cell_type": "code",
   "execution_count": 4,
   "metadata": {},
   "outputs": [
    {
     "name": "stdout",
     "output_type": "stream",
     "text": [
      "0.517\n"
     ]
    }
   ],
   "source": [
    "number_of_trials = 1000\n",
    "probability_of_sucess = 0.5\n",
    "\n",
    "random_number_of_sucessess = np.random.binomial(number_of_trials,probability_of_sucess)\n",
    "percent_of_sucess = random_number_of_sucessess/number_of_trials\n",
    "print(percent_of_sucess)"
   ]
  },
  {
   "cell_type": "code",
   "execution_count": 5,
   "metadata": {},
   "outputs": [
    {
     "name": "stdout",
     "output_type": "stream",
     "text": [
      "Expected number of tornados: 10.0\n",
      "Real number of tornados: 13\n"
     ]
    }
   ],
   "source": [
    "number_of_trials = 100000\n",
    "chance_of_tornado = 0.01/100\n",
    "\n",
    "print(\"Expected number of tornados:\", number_of_trials*chance_of_tornado)\n",
    "\n",
    "number_of_tornado_events = np.random.binomial(number_of_trials, chance_of_tornado)\n",
    "print(\"Real number of tornados:\",number_of_tornado_events)"
   ]
  },
  {
   "cell_type": "code",
   "execution_count": 6,
   "metadata": {},
   "outputs": [
    {
     "name": "stdout",
     "output_type": "stream",
     "text": [
      "6 tornadoes back to back in 2739.72602739726 years\n"
     ]
    }
   ],
   "source": [
    "number_of_trials = 1\n",
    "chance_of_tornado = 0.003\n",
    "number_of_days = 1000000\n",
    "\n",
    "tornado_events = np.random.binomial(number_of_trials, chance_of_tornado, number_of_days)\n",
    "\n",
    "two_days_in_a_row = 0\n",
    "for i in range (1, len(tornado_events)-1):\n",
    "    if tornado_events[i] == 1 and tornado_events[i-1] == 1:\n",
    "        two_days_in_a_row += 1\n",
    "\n",
    "print('{} tornadoes back to back in {} years'. format(two_days_in_a_row,number_of_days/365))"
   ]
  },
  {
   "cell_type": "code",
   "execution_count": 7,
   "metadata": {},
   "outputs": [
    {
     "data": {
      "text/plain": [
       "0.656768048622821"
      ]
     },
     "execution_count": 7,
     "metadata": {},
     "output_type": "execute_result"
    }
   ],
   "source": [
    "lower_boundary = 0 #All values generated will be greater than or equal to low\n",
    "upper_boundary = 1 #All values generated will be less than or equal to high\n",
    "\n",
    "np.random.uniform(lower_boundary, upper_boundary) #all numbers between 0 and 1 have the same chance to show"
   ]
  },
  {
   "cell_type": "code",
   "execution_count": 8,
   "metadata": {},
   "outputs": [
    {
     "data": {
      "text/plain": [
       "0.4999934981638268"
      ]
     },
     "execution_count": 8,
     "metadata": {},
     "output_type": "execute_result"
    }
   ],
   "source": [
    "#comes really close to 0.5\n",
    "np.mean(np.random.uniform(lower_boundary, upper_boundary, 1000000000))"
   ]
  },
  {
   "cell_type": "code",
   "execution_count": 9,
   "metadata": {},
   "outputs": [
    {
     "data": {
      "text/plain": [
       "1.1967554517067995"
      ]
     },
     "execution_count": 9,
     "metadata": {},
     "output_type": "execute_result"
    }
   ],
   "source": [
    "center = 1 #Mean (“centre”) of the distribution.\n",
    "standard_deviation = 0.1\n",
    "\n",
    "np.random.normal(center, standard_deviation)"
   ]
  },
  {
   "cell_type": "code",
   "execution_count": 10,
   "metadata": {},
   "outputs": [
    {
     "data": {
      "text/plain": [
       "array([0.69356257, 0.94688257, 1.39302246, 0.06410259, 0.519897  ,\n",
       "       0.05509471, 0.70408725, 1.08291611, 1.18851681, 0.87801833])"
      ]
     },
     "execution_count": 10,
     "metadata": {},
     "output_type": "execute_result"
    }
   ],
   "source": [
    "center = 1 #Mean (“centre”) of the distribution.\n",
    "standard_deviation = 0.5 #Standard deviation (spread or “width”) of the distribution. Must be non-negative.\n",
    "number_of_samples = 10\n",
    "\n",
    "np.random.normal(center, standard_deviation, number_of_samples)"
   ]
  },
  {
   "cell_type": "code",
   "execution_count": 11,
   "metadata": {},
   "outputs": [
    {
     "data": {
      "text/plain": [
       "1.0213347646552633"
      ]
     },
     "execution_count": 11,
     "metadata": {},
     "output_type": "execute_result"
    }
   ],
   "source": [
    "center = 1 #Mean (“centre”) of the distribution.\n",
    "number_of_samples = 100\n",
    "\n",
    "distribution = np.random.normal(center, size=number_of_samples)\n",
    "\n",
    "np.sqrt(np.sum((np.mean(distribution)-distribution)**2)/len(distribution)) #standard deviation\n",
    "\n",
    "np.std(distribution) #standard deviation"
   ]
  },
  {
   "cell_type": "code",
   "execution_count": 20,
   "metadata": {},
   "outputs": [
    {
     "data": {
      "text/plain": [
       "-0.6571839498809751"
      ]
     },
     "execution_count": 20,
     "metadata": {},
     "output_type": "execute_result"
    }
   ],
   "source": [
    "import scipy.stats as stats\n",
    "\n",
    "#the higher the kurtosis, more likely to have outliers\n",
    "stats.kurtosis(distribution) #Compute the kurtosis (Fisher or Pearson) of a dataset."
   ]
  },
  {
   "cell_type": "code",
   "execution_count": 23,
   "metadata": {},
   "outputs": [
    {
     "data": {
      "text/plain": [
       "0.15161193117081365"
      ]
     },
     "execution_count": 23,
     "metadata": {},
     "output_type": "execute_result"
    }
   ],
   "source": [
    "#skew = 0: simetrical, positive skew: tail to the right, negative skew = tail to the left\n",
    "stats.skew(distribution)"
   ]
  },
  {
   "cell_type": "code",
   "execution_count": 52,
   "metadata": {},
   "outputs": [
    {
     "data": {
      "text/plain": [
       "2.030770418903316"
      ]
     },
     "execution_count": 52,
     "metadata": {},
     "output_type": "execute_result"
    }
   ],
   "source": [
    "#a standard normal dist squared with n degrees of freedom\n",
    "chi_squared_df2 = np.random.chisquare(2, size=10000)\n",
    "stats.skew(chi_squared_df2)"
   ]
  },
  {
   "cell_type": "code",
   "execution_count": 72,
   "metadata": {},
   "outputs": [
    {
     "data": {
      "text/plain": [
       "1.1383848163164476"
      ]
     },
     "execution_count": 72,
     "metadata": {},
     "output_type": "execute_result"
    }
   ],
   "source": [
    "chi_squared_df6 = np.random.chisquare(6, size=10000)\n",
    "stats.skew(chi_squared_df6)"
   ]
  },
  {
   "cell_type": "code",
   "execution_count": 73,
   "metadata": {},
   "outputs": [
    {
     "data": {
      "text/plain": [
       "<matplotlib.legend.Legend at 0x23797e9fca0>"
      ]
     },
     "execution_count": 73,
     "metadata": {},
     "output_type": "execute_result"
    },
    {
     "data": {
      "image/png": "[encoded data removed]",
      "text/plain": [
       "<Figure size 432x288 with 1 Axes>"
      ]
     },
     "metadata": {
      "needs_background": "light"
     },
     "output_type": "display_data"
    }
   ],
   "source": [
    "%matplotlib inline\n",
    "import matplotlib\n",
    "import matplotlib.pyplot as plt\n",
    "\n",
    "output = plt.hist([chi_squared_df2, chi_squared_df6], bins=50, histtype='step', label=['2 degrees of freedom','6 degrees of freedom'])\n",
    "plt.legend(loc='upper right')"
   ]
  },
  {
   "cell_type": "code",
   "execution_count": null,
   "metadata": {},
   "outputs": [],
   "source": []
  }
 ],
 "metadata": {
  "kernelspec": {
   "display_name": "Python 3",
   "language": "python",
   "name": "python3"
  },
  "language_info": {
   "codemirror_mode": {
    "name": "ipython",
    "version": 3
   },
   "file_extension": ".py",
   "mimetype": "text/x-python",
   "name": "python",
   "nbconvert_exporter": "python",
   "pygments_lexer": "ipython3",
   "version": "3.8.3"
  }
 },
 "nbformat": 4,
 "nbformat_minor": 4
}
